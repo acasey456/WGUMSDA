{
 "cells": [
  {
   "cell_type": "code",
   "execution_count": 1,
   "id": "4610c824-72a9-43a8-963f-8d23300209ac",
   "metadata": {
    "tags": []
   },
   "outputs": [
    {
     "data": {
      "text/plain": [
       "'C:\\\\WGU\\\\D209\\\\PA\\\\Task1'"
      ]
     },
     "execution_count": 1,
     "metadata": {},
     "output_type": "execute_result"
    }
   ],
   "source": [
    "import os,sys\n",
    "#Change and check directory\n",
    "os.chdir('C:\\WGU\\D209\\PA\\Task1')\n",
    "os.getcwd()"
   ]
  },
  {
   "cell_type": "code",
   "execution_count": 2,
   "id": "ecaca751-fadf-4b38-b161-d3020aaadb70",
   "metadata": {
    "tags": []
   },
   "outputs": [
    {
     "name": "stdout",
     "output_type": "stream",
     "text": [
      "<class 'pandas.core.frame.DataFrame'>\n",
      "Index: 10000 entries, 1 to 10000\n",
      "Data columns (total 49 columns):\n",
      " #   Column                Non-Null Count  Dtype  \n",
      "---  ------                --------------  -----  \n",
      " 0   Customer_id           10000 non-null  object \n",
      " 1   Interaction           10000 non-null  object \n",
      " 2   UID                   10000 non-null  object \n",
      " 3   City                  10000 non-null  object \n",
      " 4   State                 10000 non-null  object \n",
      " 5   County                10000 non-null  object \n",
      " 6   Zip                   10000 non-null  int64  \n",
      " 7   Lat                   10000 non-null  float64\n",
      " 8   Lng                   10000 non-null  float64\n",
      " 9   Population            10000 non-null  int64  \n",
      " 10  Area                  10000 non-null  object \n",
      " 11  TimeZone              10000 non-null  object \n",
      " 12  Job                   10000 non-null  object \n",
      " 13  Children              10000 non-null  int64  \n",
      " 14  Age                   10000 non-null  int64  \n",
      " 15  Income                10000 non-null  float64\n",
      " 16  Marital               10000 non-null  object \n",
      " 17  Gender                10000 non-null  object \n",
      " 18  Churn                 10000 non-null  object \n",
      " 19  Outage_sec_perweek    10000 non-null  float64\n",
      " 20  Email                 10000 non-null  int64  \n",
      " 21  Contacts              10000 non-null  int64  \n",
      " 22  Yearly_equip_failure  10000 non-null  int64  \n",
      " 23  Techie                10000 non-null  object \n",
      " 24  Contract              10000 non-null  object \n",
      " 25  Port_modem            10000 non-null  object \n",
      " 26  Tablet                10000 non-null  object \n",
      " 27  InternetService       7871 non-null   object \n",
      " 28  Phone                 10000 non-null  object \n",
      " 29  Multiple              10000 non-null  object \n",
      " 30  OnlineSecurity        10000 non-null  object \n",
      " 31  OnlineBackup          10000 non-null  object \n",
      " 32  DeviceProtection      10000 non-null  object \n",
      " 33  TechSupport           10000 non-null  object \n",
      " 34  StreamingTV           10000 non-null  object \n",
      " 35  StreamingMovies       10000 non-null  object \n",
      " 36  PaperlessBilling      10000 non-null  object \n",
      " 37  PaymentMethod         10000 non-null  object \n",
      " 38  Tenure                10000 non-null  float64\n",
      " 39  MonthlyCharge         10000 non-null  float64\n",
      " 40  Bandwidth_GB_Year     10000 non-null  float64\n",
      " 41  Item1                 10000 non-null  int64  \n",
      " 42  Item2                 10000 non-null  int64  \n",
      " 43  Item3                 10000 non-null  int64  \n",
      " 44  Item4                 10000 non-null  int64  \n",
      " 45  Item5                 10000 non-null  int64  \n",
      " 46  Item6                 10000 non-null  int64  \n",
      " 47  Item7                 10000 non-null  int64  \n",
      " 48  Item8                 10000 non-null  int64  \n",
      "dtypes: float64(7), int64(15), object(27)\n",
      "memory usage: 3.8+ MB\n"
     ]
    }
   ],
   "source": [
    "#import necessary libraries\n",
    "import pandas as pd\n",
    "#For array functionality\n",
    "import numpy as np\n",
    "#For preprocessing the data\n",
    "from sklearn.feature_selection import SelectKBest\n",
    "from sklearn.model_selection import train_test_split\n",
    "from sklearn.preprocessing import StandardScaler\n",
    "#for getting the best value for k\n",
    "from sklearn.model_selection import GridSearchCV\n",
    "#for the KNN model\n",
    "#import sklearn\n",
    "from sklearn.neighbors import KNeighborsClassifier\n",
    "#for analyzing the model\n",
    "from sklearn.metrics import confusion_matrix, roc_auc_score\n",
    "\n",
    "#load the data frame\n",
    "df = pd.read_csv('churn_clean.csv', index_col = 0)\n",
    "df.info()"
   ]
  },
  {
   "cell_type": "code",
   "execution_count": 3,
   "id": "3916ed31-af52-4ddd-8344-50e0caa48d4a",
   "metadata": {
    "tags": []
   },
   "outputs": [],
   "source": [
    "#Data Cleaning\n",
    "#Detect and treat NULLS - we can see from the describe call that there is only one column with missing values\n",
    "#InternetService: This column actually doesn't have any null values it just got read in as NULL rather than None indicating the customer doesn't have this service\n",
    "df['InternetService'].fillna('None',inplace=True)"
   ]
  },
  {
   "cell_type": "code",
   "execution_count": 4,
   "id": "05257976-d16e-43ce-88fa-3c8cb1f9cf48",
   "metadata": {
    "tags": []
   },
   "outputs": [],
   "source": [
    "#Drop initial columns we won't be using\n",
    "df = df.drop(columns=['Customer_id', 'Interaction', 'UID', 'City', 'State', 'County', 'Zip', 'Lat', 'Lng', 'TimeZone', 'Area', 'Job', 'Children', 'Age', 'Income', 'Marital', 'Gender', 'Techie', 'Item1', 'Item2', 'Item3', 'Item4', 'Item5', 'Item6', 'Item7', 'Item8'])"
   ]
  },
  {
   "cell_type": "code",
   "execution_count": 5,
   "id": "4f7e792e-7ab3-4cd3-95f6-22c62f308e7c",
   "metadata": {},
   "outputs": [
    {
     "data": {
      "text/html": [
       "<div>\n",
       "<style scoped>\n",
       "    .dataframe tbody tr th:only-of-type {\n",
       "        vertical-align: middle;\n",
       "    }\n",
       "\n",
       "    .dataframe tbody tr th {\n",
       "        vertical-align: top;\n",
       "    }\n",
       "\n",
       "    .dataframe thead th {\n",
       "        text-align: right;\n",
       "    }\n",
       "</style>\n",
       "<table border=\"1\" class=\"dataframe\">\n",
       "  <thead>\n",
       "    <tr style=\"text-align: right;\">\n",
       "      <th></th>\n",
       "      <th>Population</th>\n",
       "      <th>Outage_sec_perweek</th>\n",
       "      <th>Email</th>\n",
       "      <th>Contacts</th>\n",
       "      <th>Yearly_equip_failure</th>\n",
       "      <th>Tenure</th>\n",
       "      <th>MonthlyCharge</th>\n",
       "      <th>Bandwidth_GB_Year</th>\n",
       "    </tr>\n",
       "  </thead>\n",
       "  <tbody>\n",
       "    <tr>\n",
       "      <th>count</th>\n",
       "      <td>10000.000000</td>\n",
       "      <td>10000.000000</td>\n",
       "      <td>10000.000000</td>\n",
       "      <td>10000.000000</td>\n",
       "      <td>10000.000000</td>\n",
       "      <td>10000.000000</td>\n",
       "      <td>10000.000000</td>\n",
       "      <td>10000.000000</td>\n",
       "    </tr>\n",
       "    <tr>\n",
       "      <th>mean</th>\n",
       "      <td>9756.562400</td>\n",
       "      <td>10.001848</td>\n",
       "      <td>12.016000</td>\n",
       "      <td>0.994200</td>\n",
       "      <td>0.398000</td>\n",
       "      <td>34.526188</td>\n",
       "      <td>172.624816</td>\n",
       "      <td>3392.341550</td>\n",
       "    </tr>\n",
       "    <tr>\n",
       "      <th>std</th>\n",
       "      <td>14432.698671</td>\n",
       "      <td>2.976019</td>\n",
       "      <td>3.025898</td>\n",
       "      <td>0.988466</td>\n",
       "      <td>0.635953</td>\n",
       "      <td>26.443063</td>\n",
       "      <td>42.943094</td>\n",
       "      <td>2185.294852</td>\n",
       "    </tr>\n",
       "    <tr>\n",
       "      <th>min</th>\n",
       "      <td>0.000000</td>\n",
       "      <td>0.099747</td>\n",
       "      <td>1.000000</td>\n",
       "      <td>0.000000</td>\n",
       "      <td>0.000000</td>\n",
       "      <td>1.000259</td>\n",
       "      <td>79.978860</td>\n",
       "      <td>155.506715</td>\n",
       "    </tr>\n",
       "    <tr>\n",
       "      <th>25%</th>\n",
       "      <td>738.000000</td>\n",
       "      <td>8.018214</td>\n",
       "      <td>10.000000</td>\n",
       "      <td>0.000000</td>\n",
       "      <td>0.000000</td>\n",
       "      <td>7.917694</td>\n",
       "      <td>139.979239</td>\n",
       "      <td>1236.470827</td>\n",
       "    </tr>\n",
       "    <tr>\n",
       "      <th>50%</th>\n",
       "      <td>2910.500000</td>\n",
       "      <td>10.018560</td>\n",
       "      <td>12.000000</td>\n",
       "      <td>1.000000</td>\n",
       "      <td>0.000000</td>\n",
       "      <td>35.430507</td>\n",
       "      <td>167.484700</td>\n",
       "      <td>3279.536903</td>\n",
       "    </tr>\n",
       "    <tr>\n",
       "      <th>75%</th>\n",
       "      <td>13168.000000</td>\n",
       "      <td>11.969485</td>\n",
       "      <td>14.000000</td>\n",
       "      <td>2.000000</td>\n",
       "      <td>1.000000</td>\n",
       "      <td>61.479795</td>\n",
       "      <td>200.734725</td>\n",
       "      <td>5586.141370</td>\n",
       "    </tr>\n",
       "    <tr>\n",
       "      <th>max</th>\n",
       "      <td>111850.000000</td>\n",
       "      <td>21.207230</td>\n",
       "      <td>23.000000</td>\n",
       "      <td>7.000000</td>\n",
       "      <td>6.000000</td>\n",
       "      <td>71.999280</td>\n",
       "      <td>290.160419</td>\n",
       "      <td>7158.981530</td>\n",
       "    </tr>\n",
       "  </tbody>\n",
       "</table>\n",
       "</div>"
      ],
      "text/plain": [
       "          Population  Outage_sec_perweek         Email      Contacts  \\\n",
       "count   10000.000000        10000.000000  10000.000000  10000.000000   \n",
       "mean     9756.562400           10.001848     12.016000      0.994200   \n",
       "std     14432.698671            2.976019      3.025898      0.988466   \n",
       "min         0.000000            0.099747      1.000000      0.000000   \n",
       "25%       738.000000            8.018214     10.000000      0.000000   \n",
       "50%      2910.500000           10.018560     12.000000      1.000000   \n",
       "75%     13168.000000           11.969485     14.000000      2.000000   \n",
       "max    111850.000000           21.207230     23.000000      7.000000   \n",
       "\n",
       "       Yearly_equip_failure        Tenure  MonthlyCharge  Bandwidth_GB_Year  \n",
       "count          10000.000000  10000.000000   10000.000000       10000.000000  \n",
       "mean               0.398000     34.526188     172.624816        3392.341550  \n",
       "std                0.635953     26.443063      42.943094        2185.294852  \n",
       "min                0.000000      1.000259      79.978860         155.506715  \n",
       "25%                0.000000      7.917694     139.979239        1236.470827  \n",
       "50%                0.000000     35.430507     167.484700        3279.536903  \n",
       "75%                1.000000     61.479795     200.734725        5586.141370  \n",
       "max                6.000000     71.999280     290.160419        7158.981530  "
      ]
     },
     "execution_count": 5,
     "metadata": {},
     "output_type": "execute_result"
    }
   ],
   "source": [
    "#Summary Statistics and Reviewing for Outliers\n",
    "df.describe()"
   ]
  },
  {
   "cell_type": "code",
   "execution_count": 6,
   "id": "a007d442-ef43-4af7-be98-161f63da8e6e",
   "metadata": {
    "tags": []
   },
   "outputs": [
    {
     "name": "stdout",
     "output_type": "stream",
     "text": [
      "count     10000\n",
      "unique        2\n",
      "top          No\n",
      "freq       7350\n",
      "Name: Churn, dtype: object\n",
      "count     10000\n",
      "unique        2\n",
      "top          No\n",
      "freq       5166\n",
      "Name: Port_modem, dtype: object\n",
      "count     10000\n",
      "unique        2\n",
      "top          No\n",
      "freq       7009\n",
      "Name: Tablet, dtype: object\n",
      "count     10000\n",
      "unique        2\n",
      "top         Yes\n",
      "freq       9067\n",
      "Name: Phone, dtype: object\n",
      "count     10000\n",
      "unique        2\n",
      "top          No\n",
      "freq       5392\n",
      "Name: Multiple, dtype: object\n",
      "count     10000\n",
      "unique        2\n",
      "top          No\n",
      "freq       6424\n",
      "Name: OnlineSecurity, dtype: object\n",
      "count     10000\n",
      "unique        2\n",
      "top          No\n",
      "freq       5494\n",
      "Name: OnlineBackup, dtype: object\n",
      "count     10000\n",
      "unique        2\n",
      "top          No\n",
      "freq       5614\n",
      "Name: DeviceProtection, dtype: object\n",
      "count     10000\n",
      "unique        2\n",
      "top          No\n",
      "freq       6250\n",
      "Name: TechSupport, dtype: object\n",
      "count     10000\n",
      "unique        2\n",
      "top          No\n",
      "freq       5071\n",
      "Name: StreamingTV, dtype: object\n",
      "count     10000\n",
      "unique        2\n",
      "top          No\n",
      "freq       5110\n",
      "Name: StreamingMovies, dtype: object\n",
      "count     10000\n",
      "unique        2\n",
      "top         Yes\n",
      "freq       5882\n",
      "Name: PaperlessBilling, dtype: object\n",
      "count              10000\n",
      "unique                 3\n",
      "top       Month-to-month\n",
      "freq                5456\n",
      "Name: Contract, dtype: object\n",
      "count           10000\n",
      "unique              3\n",
      "top       Fiber Optic\n",
      "freq             4408\n",
      "Name: InternetService, dtype: object\n",
      "count                10000\n",
      "unique                   4\n",
      "top       Electronic Check\n",
      "freq                  3398\n",
      "Name: PaymentMethod, dtype: object\n"
     ]
    }
   ],
   "source": [
    "categorical_columns = ['Churn','Port_modem', 'Tablet', 'Phone', 'Multiple', 'OnlineSecurity', 'OnlineBackup', 'DeviceProtection', 'TechSupport', 'StreamingTV', 'StreamingMovies', 'PaperlessBilling', 'Contract', 'InternetService', 'PaymentMethod']\n",
    "for x in categorical_columns:\n",
    "    print(df[x].describe())"
   ]
  },
  {
   "cell_type": "code",
   "execution_count": 7,
   "id": "63a4f442-6ccf-4bde-a1ae-fc783742781e",
   "metadata": {},
   "outputs": [
    {
     "name": "stdout",
     "output_type": "stream",
     "text": [
      "<class 'pandas.core.frame.DataFrame'>\n",
      "Index: 10000 entries, 1 to 10000\n",
      "Data columns (total 30 columns):\n",
      " #   Column                       Non-Null Count  Dtype  \n",
      "---  ------                       --------------  -----  \n",
      " 0   Population                   10000 non-null  int64  \n",
      " 1   Outage_sec_perweek           10000 non-null  float64\n",
      " 2   Email                        10000 non-null  int64  \n",
      " 3   Contacts                     10000 non-null  int64  \n",
      " 4   Yearly_equip_failure         10000 non-null  int64  \n",
      " 5   Tenure                       10000 non-null  float64\n",
      " 6   MonthlyCharge                10000 non-null  float64\n",
      " 7   Bandwidth_GB_Year            10000 non-null  float64\n",
      " 8   Churn_Yes                    10000 non-null  int32  \n",
      " 9   Port_modem_Yes               10000 non-null  int32  \n",
      " 10  Tablet_Yes                   10000 non-null  int32  \n",
      " 11  Phone_Yes                    10000 non-null  int32  \n",
      " 12  Multiple_Yes                 10000 non-null  int32  \n",
      " 13  OnlineSecurity_Yes           10000 non-null  int32  \n",
      " 14  OnlineBackup_Yes             10000 non-null  int32  \n",
      " 15  DeviceProtection_Yes         10000 non-null  int32  \n",
      " 16  TechSupport_Yes              10000 non-null  int32  \n",
      " 17  StreamingTV_Yes              10000 non-null  int32  \n",
      " 18  StreamingMovies_Yes          10000 non-null  int32  \n",
      " 19  PaperlessBilling_Yes         10000 non-null  int32  \n",
      " 20  Contract_Month-to-month      10000 non-null  int32  \n",
      " 21  Contract_One_Year            10000 non-null  int32  \n",
      " 22  Contract_Two_Year            10000 non-null  int32  \n",
      " 23  InternetService_DSL          10000 non-null  int32  \n",
      " 24  InternetService_Fiber_Optic  10000 non-null  int32  \n",
      " 25  InternetService_None         10000 non-null  int32  \n",
      " 26  PaymentMethod_Bank_Transfer  10000 non-null  int32  \n",
      " 27  PaymentMethod_CC             10000 non-null  int32  \n",
      " 28  PaymentMethod_ECheck         10000 non-null  int32  \n",
      " 29  PaymentMethod_MCheck         10000 non-null  int32  \n",
      "dtypes: float64(4), int32(22), int64(4)\n",
      "memory usage: 1.5 MB\n"
     ]
    }
   ],
   "source": [
    "#One hot encoding \n",
    "continuous_columns = ['Population', 'Outage_sec_perweek', 'Email', 'Contacts', 'Yearly_equip_failure', 'Tenure', 'MonthlyCharge', 'Bandwidth_GB_Year']\n",
    "categorical_columns_yn = ['Churn','Port_modem', 'Tablet', 'Phone', 'Multiple', 'OnlineSecurity', 'OnlineBackup', 'DeviceProtection', 'TechSupport', 'StreamingTV', 'StreamingMovies', 'PaperlessBilling']\n",
    "categorical_columns_multiple = ['Contract', 'InternetService', 'PaymentMethod']\n",
    "df = pd.get_dummies(df, columns=categorical_columns_yn, drop_first=True, dtype = int)\n",
    "df = pd.get_dummies(df, columns=categorical_columns_multiple, drop_first=False, dtype = int)\n",
    "#Rename the columns for clarity and to remove spaces\n",
    "df = df.rename(columns = {'Contract_One year':'Contract_One_Year', 'Contract_Two Year':'Contract_Two_Year','InternetService_Fiber Optic':'InternetService_Fiber_Optic', 'InternetService_Fiber Optic':'InternetService_Fiber_Optic', 'PaymentMethod_Credit Card (automatic)':'PaymentMethod_CC', 'PaymentMethod_Electronic Check':'PaymentMethod_ECheck', 'PaymentMethod_Mailed Check':'PaymentMethod_MCheck', 'PaymentMethod_Bank Transfer(automatic)':'PaymentMethod_Bank_Transfer'})\n",
    "categorical_columns = ['Port_modem_Yes', 'Tablet_Yes', 'Phone_Yes', 'Multiple_Yes', 'OnlineSecurity_Yes', 'OnlineBackup_Yes', 'DeviceProtection_Yes', 'TechSupport_Yes', 'StreamingTV_Yes', 'StreamingMovies_Yes', 'PaperlessBilling_Yes', 'Contract_One_Year', 'Contract_Two_Year', 'InternetService_Fiber_Optic','InternetService_None','InternetService_DSL','PaymentMethod_CC','PaymentMethod_ECheck', 'PaymentMethod_MCheck', 'PaymentMethod_Bank_Transfer','Contract_Month-to-month']\n",
    "#Store all the columns for easy access later\n",
    "columns = categorical_columns + continuous_columns\n",
    "df.info()"
   ]
  },
  {
   "cell_type": "code",
   "execution_count": 8,
   "id": "017c03c1-40f6-4b19-85d0-38678fc9f1ce",
   "metadata": {
    "tags": []
   },
   "outputs": [
    {
     "name": "stdout",
     "output_type": "stream",
     "text": [
      "5                          Tenure\n",
      "6                   MonthlyCharge\n",
      "7               Bandwidth_GB_Year\n",
      "17            StreamingMovies_Yes\n",
      "19        Contract_Month-to-month\n",
      "16                StreamingTV_Yes\n",
      "21              Contract_Two_Year\n",
      "20              Contract_One_Year\n",
      "11                   Multiple_Yes\n",
      "22            InternetService_DSL\n",
      "23    InternetService_Fiber_Optic\n",
      "14           DeviceProtection_Yes\n",
      "13               OnlineBackup_Yes\n",
      "24           InternetService_None\n",
      "27           PaymentMethod_ECheck\n",
      "10                      Phone_Yes\n",
      "Name: Feature, dtype: object\n"
     ]
    }
   ],
   "source": [
    "#Use SelectKBest to further narrow down the features to get the best ones for the model\n",
    "X = df.drop('Churn_Yes', axis=1)\n",
    "y = df[\"Churn_Yes\"]\n",
    "feature_names = X.columns\n",
    "\n",
    "# Initialize the class and call fit_transform\n",
    "skbest = SelectKBest(k='all') # k= features\n",
    "X_new = skbest.fit_transform(X, y)\n",
    "X_new.shape\t\n",
    "\n",
    "### Finding P-values to select statistically significant features \n",
    "p_values = pd.DataFrame({'Feature': X.columns, 'p_value':skbest.pvalues_}).sort_values('p_value')\n",
    "p_values[p_values['p_value'] < .05]\n",
    "features_to_keep = p_values['Feature'][p_values['p_value'] < .05]\n",
    "# Print the name of the selected features\n",
    "print(features_to_keep)"
   ]
  },
  {
   "cell_type": "code",
   "execution_count": 9,
   "id": "059f4ca9-a0e3-4b4c-b7af-577db8a1f076",
   "metadata": {
    "tags": []
   },
   "outputs": [
    {
     "name": "stdout",
     "output_type": "stream",
     "text": [
      "<class 'pandas.core.frame.DataFrame'>\n",
      "Index: 10000 entries, 1 to 10000\n",
      "Data columns (total 17 columns):\n",
      " #   Column                       Non-Null Count  Dtype  \n",
      "---  ------                       --------------  -----  \n",
      " 0   Tenure                       10000 non-null  float64\n",
      " 1   MonthlyCharge                10000 non-null  float64\n",
      " 2   Bandwidth_GB_Year            10000 non-null  float64\n",
      " 3   Churn_Yes                    10000 non-null  int32  \n",
      " 4   Phone_Yes                    10000 non-null  int32  \n",
      " 5   Multiple_Yes                 10000 non-null  int32  \n",
      " 6   OnlineBackup_Yes             10000 non-null  int32  \n",
      " 7   DeviceProtection_Yes         10000 non-null  int32  \n",
      " 8   StreamingTV_Yes              10000 non-null  int32  \n",
      " 9   StreamingMovies_Yes          10000 non-null  int32  \n",
      " 10  Contract_Month-to-month      10000 non-null  int32  \n",
      " 11  Contract_One_Year            10000 non-null  int32  \n",
      " 12  Contract_Two_Year            10000 non-null  int32  \n",
      " 13  InternetService_DSL          10000 non-null  int32  \n",
      " 14  InternetService_Fiber_Optic  10000 non-null  int32  \n",
      " 15  InternetService_None         10000 non-null  int32  \n",
      " 16  PaymentMethod_ECheck         10000 non-null  int32  \n",
      "dtypes: float64(3), int32(14)\n",
      "memory usage: 859.4 KB\n"
     ]
    }
   ],
   "source": [
    "df = df.drop(columns = ['PaymentMethod_Bank_Transfer','Population','Outage_sec_perweek','Email','Contacts','Tablet_Yes','Yearly_equip_failure','OnlineSecurity_Yes','PaperlessBilling_Yes','TechSupport_Yes','Port_modem_Yes','PaymentMethod_CC','PaymentMethod_MCheck'])\n",
    "df.info()"
   ]
  },
  {
   "cell_type": "code",
   "execution_count": 10,
   "id": "f128cdb2-b5fe-4f67-9d67-ffe8520c086c",
   "metadata": {
    "tags": []
   },
   "outputs": [],
   "source": [
    "#Scale the numeric variables \n",
    "#Initialize StandardScaler\n",
    "scaler = StandardScaler()\n",
    "# Apply StandardScaler to numeric columns\n",
    "features = ['Tenure','MonthlyCharge', 'Bandwidth_GB_Year']\n",
    "for x in features:\n",
    "    df[x] = scaler.fit_transform(df[x].to_numpy().reshape(-1,1))"
   ]
  },
  {
   "cell_type": "code",
   "execution_count": 11,
   "id": "98ef8f60-b144-49af-90ac-5e0616b894df",
   "metadata": {
    "tags": []
   },
   "outputs": [
    {
     "data": {
      "text/html": [
       "<div>\n",
       "<style scoped>\n",
       "    .dataframe tbody tr th:only-of-type {\n",
       "        vertical-align: middle;\n",
       "    }\n",
       "\n",
       "    .dataframe tbody tr th {\n",
       "        vertical-align: top;\n",
       "    }\n",
       "\n",
       "    .dataframe thead th {\n",
       "        text-align: right;\n",
       "    }\n",
       "</style>\n",
       "<table border=\"1\" class=\"dataframe\">\n",
       "  <thead>\n",
       "    <tr style=\"text-align: right;\">\n",
       "      <th></th>\n",
       "      <th>Tenure</th>\n",
       "      <th>MonthlyCharge</th>\n",
       "      <th>Bandwidth_GB_Year</th>\n",
       "      <th>Churn_Yes</th>\n",
       "      <th>Phone_Yes</th>\n",
       "      <th>Multiple_Yes</th>\n",
       "      <th>OnlineBackup_Yes</th>\n",
       "      <th>DeviceProtection_Yes</th>\n",
       "      <th>StreamingTV_Yes</th>\n",
       "      <th>StreamingMovies_Yes</th>\n",
       "      <th>Contract_Month-to-month</th>\n",
       "      <th>Contract_One_Year</th>\n",
       "      <th>Contract_Two_Year</th>\n",
       "      <th>InternetService_DSL</th>\n",
       "      <th>InternetService_Fiber_Optic</th>\n",
       "      <th>InternetService_None</th>\n",
       "      <th>PaymentMethod_ECheck</th>\n",
       "    </tr>\n",
       "    <tr>\n",
       "      <th>CaseOrder</th>\n",
       "      <th></th>\n",
       "      <th></th>\n",
       "      <th></th>\n",
       "      <th></th>\n",
       "      <th></th>\n",
       "      <th></th>\n",
       "      <th></th>\n",
       "      <th></th>\n",
       "      <th></th>\n",
       "      <th></th>\n",
       "      <th></th>\n",
       "      <th></th>\n",
       "      <th></th>\n",
       "      <th></th>\n",
       "      <th></th>\n",
       "      <th></th>\n",
       "      <th></th>\n",
       "    </tr>\n",
       "  </thead>\n",
       "  <tbody>\n",
       "    <tr>\n",
       "      <th>1</th>\n",
       "      <td>-1.048746</td>\n",
       "      <td>-0.003943</td>\n",
       "      <td>-1.138487</td>\n",
       "      <td>0</td>\n",
       "      <td>1</td>\n",
       "      <td>0</td>\n",
       "      <td>1</td>\n",
       "      <td>0</td>\n",
       "      <td>0</td>\n",
       "      <td>1</td>\n",
       "      <td>0</td>\n",
       "      <td>1</td>\n",
       "      <td>0</td>\n",
       "      <td>0</td>\n",
       "      <td>1</td>\n",
       "      <td>0</td>\n",
       "      <td>0</td>\n",
       "    </tr>\n",
       "    <tr>\n",
       "      <th>2</th>\n",
       "      <td>-1.262001</td>\n",
       "      <td>1.630326</td>\n",
       "      <td>-1.185876</td>\n",
       "      <td>1</td>\n",
       "      <td>1</td>\n",
       "      <td>1</td>\n",
       "      <td>0</td>\n",
       "      <td>0</td>\n",
       "      <td>1</td>\n",
       "      <td>1</td>\n",
       "      <td>1</td>\n",
       "      <td>0</td>\n",
       "      <td>0</td>\n",
       "      <td>0</td>\n",
       "      <td>1</td>\n",
       "      <td>0</td>\n",
       "      <td>0</td>\n",
       "    </tr>\n",
       "    <tr>\n",
       "      <th>3</th>\n",
       "      <td>-0.709940</td>\n",
       "      <td>-0.295225</td>\n",
       "      <td>-0.612138</td>\n",
       "      <td>0</td>\n",
       "      <td>1</td>\n",
       "      <td>1</td>\n",
       "      <td>0</td>\n",
       "      <td>0</td>\n",
       "      <td>0</td>\n",
       "      <td>1</td>\n",
       "      <td>0</td>\n",
       "      <td>0</td>\n",
       "      <td>1</td>\n",
       "      <td>1</td>\n",
       "      <td>0</td>\n",
       "      <td>0</td>\n",
       "      <td>0</td>\n",
       "    </tr>\n",
       "    <tr>\n",
       "      <th>4</th>\n",
       "      <td>-0.659524</td>\n",
       "      <td>-1.226521</td>\n",
       "      <td>-0.561857</td>\n",
       "      <td>0</td>\n",
       "      <td>1</td>\n",
       "      <td>0</td>\n",
       "      <td>0</td>\n",
       "      <td>0</td>\n",
       "      <td>1</td>\n",
       "      <td>0</td>\n",
       "      <td>0</td>\n",
       "      <td>0</td>\n",
       "      <td>1</td>\n",
       "      <td>1</td>\n",
       "      <td>0</td>\n",
       "      <td>0</td>\n",
       "      <td>0</td>\n",
       "    </tr>\n",
       "    <tr>\n",
       "      <th>5</th>\n",
       "      <td>-1.242551</td>\n",
       "      <td>-0.528086</td>\n",
       "      <td>-1.428184</td>\n",
       "      <td>1</td>\n",
       "      <td>0</td>\n",
       "      <td>0</td>\n",
       "      <td>0</td>\n",
       "      <td>0</td>\n",
       "      <td>1</td>\n",
       "      <td>0</td>\n",
       "      <td>1</td>\n",
       "      <td>0</td>\n",
       "      <td>0</td>\n",
       "      <td>0</td>\n",
       "      <td>1</td>\n",
       "      <td>0</td>\n",
       "      <td>0</td>\n",
       "    </tr>\n",
       "  </tbody>\n",
       "</table>\n",
       "</div>"
      ],
      "text/plain": [
       "             Tenure  MonthlyCharge  Bandwidth_GB_Year  Churn_Yes  Phone_Yes  \\\n",
       "CaseOrder                                                                     \n",
       "1         -1.048746      -0.003943          -1.138487          0          1   \n",
       "2         -1.262001       1.630326          -1.185876          1          1   \n",
       "3         -0.709940      -0.295225          -0.612138          0          1   \n",
       "4         -0.659524      -1.226521          -0.561857          0          1   \n",
       "5         -1.242551      -0.528086          -1.428184          1          0   \n",
       "\n",
       "           Multiple_Yes  OnlineBackup_Yes  DeviceProtection_Yes  \\\n",
       "CaseOrder                                                         \n",
       "1                     0                 1                     0   \n",
       "2                     1                 0                     0   \n",
       "3                     1                 0                     0   \n",
       "4                     0                 0                     0   \n",
       "5                     0                 0                     0   \n",
       "\n",
       "           StreamingTV_Yes  StreamingMovies_Yes  Contract_Month-to-month  \\\n",
       "CaseOrder                                                                  \n",
       "1                        0                    1                        0   \n",
       "2                        1                    1                        1   \n",
       "3                        0                    1                        0   \n",
       "4                        1                    0                        0   \n",
       "5                        1                    0                        1   \n",
       "\n",
       "           Contract_One_Year  Contract_Two_Year  InternetService_DSL  \\\n",
       "CaseOrder                                                              \n",
       "1                          1                  0                    0   \n",
       "2                          0                  0                    0   \n",
       "3                          0                  1                    1   \n",
       "4                          0                  1                    1   \n",
       "5                          0                  0                    0   \n",
       "\n",
       "           InternetService_Fiber_Optic  InternetService_None  \\\n",
       "CaseOrder                                                      \n",
       "1                                    1                     0   \n",
       "2                                    1                     0   \n",
       "3                                    0                     0   \n",
       "4                                    0                     0   \n",
       "5                                    1                     0   \n",
       "\n",
       "           PaymentMethod_ECheck  \n",
       "CaseOrder                        \n",
       "1                             0  \n",
       "2                             0  \n",
       "3                             0  \n",
       "4                             0  \n",
       "5                             0  "
      ]
     },
     "execution_count": 11,
     "metadata": {},
     "output_type": "execute_result"
    }
   ],
   "source": [
    "df.head()"
   ]
  },
  {
   "cell_type": "code",
   "execution_count": 12,
   "id": "f8318573-3c73-440d-a9ce-fa8ab03c093c",
   "metadata": {},
   "outputs": [],
   "source": [
    "#Export the prepared data set\n",
    "df.to_csv('PREPARED_churn_clean_data.csv')"
   ]
  },
  {
   "cell_type": "code",
   "execution_count": 13,
   "id": "d90864aa-3473-4b66-a6d9-f129884de32c",
   "metadata": {
    "tags": []
   },
   "outputs": [],
   "source": [
    "# Set up the data as X and y and split the data for training and testing \n",
    "X = df.drop('Churn_Yes', axis=1)\n",
    "y = df['Churn_Yes']\n",
    "X_train, X_test, y_train, y_test = train_test_split(X, y, test_size=0.2, random_state=1, stratify=y)\n",
    "\n",
    "# Export training and test datasets\n",
    "X_train.to_csv('X_train.csv')\n",
    "X_test.to_csv('X_test.csv')\n",
    "y_train.to_csv('y_train.csv')\n",
    "y_test.to_csv('y_test.csv')\n",
    "\n",
    "#transform to arrays for KNN\n",
    "X_train = X_train.to_numpy()\n",
    "X_test = X_test.to_numpy()"
   ]
  },
  {
   "cell_type": "code",
   "execution_count": 14,
   "id": "bbdfee3c-41de-4f09-a1a5-65a99f0e929d",
   "metadata": {
    "tags": []
   },
   "outputs": [
    {
     "data": {
      "text/plain": [
       "{'n_neighbors': 19}"
      ]
     },
     "execution_count": 14,
     "metadata": {},
     "output_type": "execute_result"
    }
   ],
   "source": [
    "#Use grid \n",
    "param_grid = {'n_neighbors': np.arange(1, 30)}\n",
    "knn = KNeighborsClassifier()\n",
    "knn_cv = GridSearchCV(knn, param_grid)\n",
    "knn_cv.fit(X_train, y_train)\n",
    "knn_cv.best_params_"
   ]
  },
  {
   "cell_type": "code",
   "execution_count": 15,
   "id": "da76f1f6-3911-4c88-b8e6-d07f9cfd32f9",
   "metadata": {
    "tags": []
   },
   "outputs": [
    {
     "data": {
      "text/html": [
       "<style>#sk-container-id-1 {color: black;}#sk-container-id-1 pre{padding: 0;}#sk-container-id-1 div.sk-toggleable {background-color: white;}#sk-container-id-1 label.sk-toggleable__label {cursor: pointer;display: block;width: 100%;margin-bottom: 0;padding: 0.3em;box-sizing: border-box;text-align: center;}#sk-container-id-1 label.sk-toggleable__label-arrow:before {content: \"▸\";float: left;margin-right: 0.25em;color: #696969;}#sk-container-id-1 label.sk-toggleable__label-arrow:hover:before {color: black;}#sk-container-id-1 div.sk-estimator:hover label.sk-toggleable__label-arrow:before {color: black;}#sk-container-id-1 div.sk-toggleable__content {max-height: 0;max-width: 0;overflow: hidden;text-align: left;background-color: #f0f8ff;}#sk-container-id-1 div.sk-toggleable__content pre {margin: 0.2em;color: black;border-radius: 0.25em;background-color: #f0f8ff;}#sk-container-id-1 input.sk-toggleable__control:checked~div.sk-toggleable__content {max-height: 200px;max-width: 100%;overflow: auto;}#sk-container-id-1 input.sk-toggleable__control:checked~label.sk-toggleable__label-arrow:before {content: \"▾\";}#sk-container-id-1 div.sk-estimator input.sk-toggleable__control:checked~label.sk-toggleable__label {background-color: #d4ebff;}#sk-container-id-1 div.sk-label input.sk-toggleable__control:checked~label.sk-toggleable__label {background-color: #d4ebff;}#sk-container-id-1 input.sk-hidden--visually {border: 0;clip: rect(1px 1px 1px 1px);clip: rect(1px, 1px, 1px, 1px);height: 1px;margin: -1px;overflow: hidden;padding: 0;position: absolute;width: 1px;}#sk-container-id-1 div.sk-estimator {font-family: monospace;background-color: #f0f8ff;border: 1px dotted black;border-radius: 0.25em;box-sizing: border-box;margin-bottom: 0.5em;}#sk-container-id-1 div.sk-estimator:hover {background-color: #d4ebff;}#sk-container-id-1 div.sk-parallel-item::after {content: \"\";width: 100%;border-bottom: 1px solid gray;flex-grow: 1;}#sk-container-id-1 div.sk-label:hover label.sk-toggleable__label {background-color: #d4ebff;}#sk-container-id-1 div.sk-serial::before {content: \"\";position: absolute;border-left: 1px solid gray;box-sizing: border-box;top: 0;bottom: 0;left: 50%;z-index: 0;}#sk-container-id-1 div.sk-serial {display: flex;flex-direction: column;align-items: center;background-color: white;padding-right: 0.2em;padding-left: 0.2em;position: relative;}#sk-container-id-1 div.sk-item {position: relative;z-index: 1;}#sk-container-id-1 div.sk-parallel {display: flex;align-items: stretch;justify-content: center;background-color: white;position: relative;}#sk-container-id-1 div.sk-item::before, #sk-container-id-1 div.sk-parallel-item::before {content: \"\";position: absolute;border-left: 1px solid gray;box-sizing: border-box;top: 0;bottom: 0;left: 50%;z-index: -1;}#sk-container-id-1 div.sk-parallel-item {display: flex;flex-direction: column;z-index: 1;position: relative;background-color: white;}#sk-container-id-1 div.sk-parallel-item:first-child::after {align-self: flex-end;width: 50%;}#sk-container-id-1 div.sk-parallel-item:last-child::after {align-self: flex-start;width: 50%;}#sk-container-id-1 div.sk-parallel-item:only-child::after {width: 0;}#sk-container-id-1 div.sk-dashed-wrapped {border: 1px dashed gray;margin: 0 0.4em 0.5em 0.4em;box-sizing: border-box;padding-bottom: 0.4em;background-color: white;}#sk-container-id-1 div.sk-label label {font-family: monospace;font-weight: bold;display: inline-block;line-height: 1.2em;}#sk-container-id-1 div.sk-label-container {text-align: center;}#sk-container-id-1 div.sk-container {/* jupyter's `normalize.less` sets `[hidden] { display: none; }` but bootstrap.min.css set `[hidden] { display: none !important; }` so we also need the `!important` here to be able to override the default hidden behavior on the sphinx rendered scikit-learn.org. See: https://github.com/scikit-learn/scikit-learn/issues/21755 */display: inline-block !important;position: relative;}#sk-container-id-1 div.sk-text-repr-fallback {display: none;}</style><div id=\"sk-container-id-1\" class=\"sk-top-container\"><div class=\"sk-text-repr-fallback\"><pre>KNeighborsClassifier(n_neighbors=19)</pre><b>In a Jupyter environment, please rerun this cell to show the HTML representation or trust the notebook. <br />On GitHub, the HTML representation is unable to render, please try loading this page with nbviewer.org.</b></div><div class=\"sk-container\" hidden><div class=\"sk-item\"><div class=\"sk-estimator sk-toggleable\"><input class=\"sk-toggleable__control sk-hidden--visually\" id=\"sk-estimator-id-1\" type=\"checkbox\" checked><label for=\"sk-estimator-id-1\" class=\"sk-toggleable__label sk-toggleable__label-arrow\">KNeighborsClassifier</label><div class=\"sk-toggleable__content\"><pre>KNeighborsClassifier(n_neighbors=19)</pre></div></div></div></div></div>"
      ],
      "text/plain": [
       "KNeighborsClassifier(n_neighbors=19)"
      ]
     },
     "execution_count": 15,
     "metadata": {},
     "output_type": "execute_result"
    }
   ],
   "source": [
    "#Fit the KNN model using grid search result of k = 19\n",
    "knn = KNeighborsClassifier(n_neighbors = 19)\n",
    "knn.fit(X_train, y_train)"
   ]
  },
  {
   "cell_type": "code",
   "execution_count": 16,
   "id": "0945c461-0eee-4e30-bd08-a5408f1b8c01",
   "metadata": {
    "tags": []
   },
   "outputs": [
    {
     "name": "stdout",
     "output_type": "stream",
     "text": [
      "[[1362  108]\n",
      " [ 120  410]]\n"
     ]
    }
   ],
   "source": [
    "y_pred = knn.predict(X_test)\n",
    "y_pred_prob = knn.predict_proba(X_test)[:,1]\n",
    "c_matrix = confusion_matrix(y_test,y_pred)\n",
    "print(c_matrix)"
   ]
  },
  {
   "cell_type": "code",
   "execution_count": 17,
   "id": "d5dab45b-758b-446b-b57b-970907555cf0",
   "metadata": {
    "tags": []
   },
   "outputs": [
    {
     "name": "stdout",
     "output_type": "stream",
     "text": [
      "Model Accuracy:  0.886\n"
     ]
    }
   ],
   "source": [
    "print('Model Accuracy: ', knn.score(X_test, y_test))"
   ]
  },
  {
   "cell_type": "code",
   "execution_count": 18,
   "id": "9c0fa1c2-8fcd-4353-b5b2-15575e79c10e",
   "metadata": {
    "tags": []
   },
   "outputs": [
    {
     "name": "stdout",
     "output_type": "stream",
     "text": [
      "Training Accuracy:  0.90125\n"
     ]
    }
   ],
   "source": [
    "print('Training Accuracy: ', knn.score(X_train, y_train))"
   ]
  },
  {
   "cell_type": "code",
   "execution_count": 19,
   "id": "bbb90031-edf3-48c3-84be-ff20f9512112",
   "metadata": {
    "tags": []
   },
   "outputs": [
    {
     "name": "stdout",
     "output_type": "stream",
     "text": [
      "AUC Score:  0.9440726479270954\n"
     ]
    }
   ],
   "source": [
    "print(\"AUC Score: \", roc_auc_score(y_test, y_pred_prob))"
   ]
  }
 ],
 "metadata": {
  "kernelspec": {
   "display_name": "Python 3 (ipykernel)",
   "language": "python",
   "name": "python3"
  },
  "language_info": {
   "codemirror_mode": {
    "name": "ipython",
    "version": 3
   },
   "file_extension": ".py",
   "mimetype": "text/x-python",
   "name": "python",
   "nbconvert_exporter": "python",
   "pygments_lexer": "ipython3",
   "version": "3.11.5"
  }
 },
 "nbformat": 4,
 "nbformat_minor": 5
}
