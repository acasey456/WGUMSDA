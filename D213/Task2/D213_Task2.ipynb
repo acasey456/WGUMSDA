{
 "cells": [
  {
   "cell_type": "code",
   "execution_count": 1,
   "id": "b86fa31a-b592-41b4-8452-1e740140ac4b",
   "metadata": {},
   "outputs": [
    {
     "data": {
      "text/plain": [
       "'C:\\\\WGU\\\\D213\\\\Task2'"
      ]
     },
     "execution_count": 1,
     "metadata": {},
     "output_type": "execute_result"
    }
   ],
   "source": [
    "import os,sys\n",
    "# Change and check directory\n",
    "os.chdir('C:\\WGU\\D213\\Task2')\n",
    "os.getcwd()"
   ]
  },
  {
   "cell_type": "code",
   "execution_count": 2,
   "id": "734a043a-d84e-411f-af13-ba6bdcd2d619",
   "metadata": {},
   "outputs": [],
   "source": [
    "# import packages needed\n",
    "import pandas as pd\n",
    "import numpy as np\n",
    "import re\n",
    "import matplotlib.pyplot as plt\n",
    "import seaborn as sns\n",
    "import tensorflow as tf\n",
    "from tensorflow.keras.preprocessing.text import Tokenizer\n",
    "from keras.preprocessing.sequence import pad_sequences\n",
    "from sklearn.model_selection import train_test_split\n",
    "from sklearn.preprocessing import LabelEncoder\n",
    "from tensorflow.keras.callbacks import EarlyStopping\n",
    "from tensorflow.keras.layers import Dense, Embedding, LSTM\n",
    "from tensorflow.keras.models import Sequential"
   ]
  },
  {
   "cell_type": "code",
   "execution_count": 3,
   "id": "52bdf6f6-ae63-49ac-b4a0-1d0ea2bf961b",
   "metadata": {},
   "outputs": [
    {
     "name": "stdout",
     "output_type": "stream",
     "text": [
      "<class 'pandas.core.frame.DataFrame'>\n",
      "RangeIndex: 2000 entries, 0 to 1999\n",
      "Data columns (total 2 columns):\n",
      " #   Column     Non-Null Count  Dtype \n",
      "---  ------     --------------  ----- \n",
      " 0   Reviews    2000 non-null   object\n",
      " 1   Sentiment  2000 non-null   int64 \n",
      "dtypes: int64(1), object(1)\n",
      "memory usage: 31.4+ KB\n"
     ]
    }
   ],
   "source": [
    "# Read in the data\n",
    "Amazon = pd.read_csv('amazon_cells_labelled.txt', delimiter = '\\t', header = None, names=['Reviews', 'Sentiment'])\n",
    "Yelp = pd.read_csv('yelp_labelled.txt', delimiter = '\\t', header = None, names=['Reviews', 'Sentiment'])\n",
    "df = pd.concat([Amazon, Yelp], ignore_index = True)\n",
    "df.info()"
   ]
  },
  {
   "cell_type": "code",
   "execution_count": 4,
   "id": "3830cdf3-d163-4de4-8279-82fd96d3242d",
   "metadata": {},
   "outputs": [
    {
     "name": "stdout",
     "output_type": "stream",
     "text": [
      "{\"'\", '-', ',', '(', '#', '&', ';', '.', '+', '/', '%', ']', ')', '?', 'ê', '[', ':', '\"', '!', 'é', '$', '*'}\n"
     ]
    }
   ],
   "source": [
    "# Define a regex pattern to detect special characters\n",
    "pattern = re.compile(r\"[^a-zA-Z0-9\\s]\")  # Matches any character not a-z, A-Z, 0-9, or space\n",
    "# find and extract special characters from a given text\n",
    "def extract_special_characters(text):\n",
    "    special_chars = pattern.findall(text)\n",
    "    return set(special_chars)\n",
    "#initialize the set of specaial characters to extract from the reviews\n",
    "special_chars_set = set()\n",
    "# Find, print, and remove special characters\n",
    "for idx, row in df.iterrows():\n",
    "    text = row[\"Reviews\"]\n",
    "    special_chars_set |= extract_special_characters(text)\n",
    "    if special_chars_set:\n",
    "        row  = re.sub(pattern, \"\", text)\n",
    "        df.loc[idx, \"Reviews\"] = row\n",
    "    \n",
    "print(special_chars_set)"
   ]
  },
  {
   "cell_type": "code",
   "execution_count": 5,
   "id": "098c3240-635b-4b44-b5bf-ba83f02c7b22",
   "metadata": {},
   "outputs": [
    {
     "name": "stdout",
     "output_type": "stream",
     "text": [
      "19\n",
      "Reviews      0\n",
      "Sentiment    0\n",
      "dtype: int64\n"
     ]
    }
   ],
   "source": [
    "# Find and treat duplicate rows \n",
    "duplicate_rows = df.duplicated().sum()\n",
    "print(duplicate_rows)\n",
    "df = df.drop_duplicates()\n",
    "# Identify missing values\n",
    "missing_values = df.isna().sum()\n",
    "print(missing_values)"
   ]
  },
  {
   "cell_type": "code",
   "execution_count": 6,
   "id": "e35cac5e-5338-4d06-8738-a2f9ad88128a",
   "metadata": {},
   "outputs": [
    {
     "name": "stdout",
     "output_type": "stream",
     "text": [
      "Vocabulary Size: 3315\n"
     ]
    }
   ],
   "source": [
    "# Initialize tokenizer\n",
    "tokenizer = Tokenizer(num_words=None, lower=True, oov_token=\"<OOV>\")\n",
    "# Fit the tokenizer on the text data\n",
    "tokenizer.fit_on_texts(df['Reviews'].tolist())\n",
    "# Get the vocabulary size\n",
    "vocab_size = len(tokenizer.word_index)  # Get the number of unique words\n",
    "print(\"Vocabulary Size:\", vocab_size)"
   ]
  },
  {
   "cell_type": "code",
   "execution_count": 7,
   "id": "47352d2a-be80-4bf6-89fb-c1b06ee13346",
   "metadata": {},
   "outputs": [
    {
     "name": "stdout",
     "output_type": "stream",
     "text": [
      "8\n"
     ]
    }
   ],
   "source": [
    "max_sequence_embedding = int(round(np.sqrt(np.sqrt(vocab_size)), 0))\n",
    "print(max_sequence_embedding)"
   ]
  },
  {
   "cell_type": "code",
   "execution_count": 8,
   "id": "6a115f81-60c1-42c3-989b-55c44c7cbcf6",
   "metadata": {},
   "outputs": [
    {
     "name": "stdout",
     "output_type": "stream",
     "text": [
      "Maximum Sequence Length: 32\n"
     ]
    }
   ],
   "source": [
    "# Calculate the maximum sequence length\n",
    "max_sequence_length = df[\"Reviews\"].apply(lambda x: len(x.split())).max()\n",
    "print(\"Maximum Sequence Length:\", max_sequence_length)"
   ]
  },
  {
   "cell_type": "code",
   "execution_count": 14,
   "id": "966250e7-679a-4a84-bd16-a2335b6c5bec",
   "metadata": {},
   "outputs": [
    {
     "name": "stdout",
     "output_type": "stream",
     "text": [
      "[  27   60    8   56  146   13   70    6  257    7   15   47   15    2\n",
      "  147  498    4   61  111    5 1392    0    0    0    0    0    0    0\n",
      "    0    0    0    0]\n"
     ]
    }
   ],
   "source": [
    "# Pad the sequences with the max length \n",
    "padded_sequences = pad_sequences(tokenizer.texts_to_sequences(df['Reviews']), maxlen=max_sequence_length, padding='post')\n",
    "print(padded_sequences[0])"
   ]
  },
  {
   "cell_type": "code",
   "execution_count": 16,
   "id": "7fb917a5-b269-402a-9397-8af54b36b73c",
   "metadata": {},
   "outputs": [
    {
     "name": "stdout",
     "output_type": "stream",
     "text": [
      "1584\n",
      "397\n"
     ]
    }
   ],
   "source": [
    "# Split the data for training and testing\n",
    "label_encoder = LabelEncoder()\n",
    "y_encoded = label_encoder.fit_transform(np.array(df['Sentiment']))\n",
    "X_train, X_test, y_train, y_test = train_test_split(padded_sequences, y_encoded, test_size=0.2, random_state=42)\n",
    "pd.DataFrame(X_train).to_csv(\"X_train.csv\")\n",
    "pd.DataFrame(y_train).to_csv(\"y_train.csv\")\n",
    "pd.DataFrame(X_test).to_csv(\"X_test.csv\")\n",
    "pd.DataFrame(y_test).to_csv(\"y_test.csv\")\n",
    "print(len(X_train))\n",
    "print(len(X_test))"
   ]
  },
  {
   "cell_type": "code",
   "execution_count": 128,
   "id": "2e8ca61a-e0be-47e8-b8f5-0b7e7a29c7da",
   "metadata": {},
   "outputs": [
    {
     "name": "stdout",
     "output_type": "stream",
     "text": [
      "Model: \"sequential_19\"\n",
      "_________________________________________________________________\n",
      "Layer (type)                 Output Shape              Param #   \n",
      "=================================================================\n",
      "embedding_19 (Embedding)     (None, 32, 8)             26528     \n",
      "_________________________________________________________________\n",
      "global_average_pooling1d_17  (None, 8)                 0         \n",
      "_________________________________________________________________\n",
      "dense_57 (Dense)             (None, 50)                450       \n",
      "_________________________________________________________________\n",
      "dense_58 (Dense)             (None, 25)                1275      \n",
      "_________________________________________________________________\n",
      "dense_59 (Dense)             (None, 1)                 26        \n",
      "=================================================================\n",
      "Total params: 28,279\n",
      "Trainable params: 28,279\n",
      "Non-trainable params: 0\n",
      "_________________________________________________________________\n"
     ]
    }
   ],
   "source": [
    "# Build the model \n",
    "activation = 'sigmoid'\n",
    "loss = 'binary_crossentropy'\n",
    "optimizer = 'adam'\n",
    "num_epochs = 50\n",
    "early_stopping_monitor = EarlyStopping(monitor='accuracy', patience=2, verbose=1, restore_best_weights=True)\n",
    "model = Sequential([\n",
    "    Embedding(vocab_size+1,max_sequence_embedding,input_length=max_sequence_length),\n",
    "    tf.keras.layers.GlobalAveragePooling1D(),\n",
    "    Dense(50, activation = 'relu'),\n",
    "    Dense(25, activation = 'relu'),\n",
    "    Dense(1, activation = activation)  \n",
    "])\n",
    "model.compile(loss = loss, optimizer=optimizer,metrics=['accuracy'])\n",
    "model.summary()"
   ]
  },
  {
   "cell_type": "code",
   "execution_count": 130,
   "id": "828c48df-58e1-4f6a-a61c-f655e46421f2",
   "metadata": {},
   "outputs": [
    {
     "name": "stdout",
     "output_type": "stream",
     "text": [
      "Epoch 1/50\n",
      "50/50 [==============================] - 0s 2ms/step - loss: 0.6932 - accuracy: 0.5006 - val_loss: 0.6930 - val_accuracy: 0.4811\n",
      "Epoch 2/50\n",
      "50/50 [==============================] - 0s 1ms/step - loss: 0.6922 - accuracy: 0.5423 - val_loss: 0.6908 - val_accuracy: 0.5592\n",
      "Epoch 3/50\n",
      "50/50 [==============================] - 0s 868us/step - loss: 0.6854 - accuracy: 0.6282 - val_loss: 0.6789 - val_accuracy: 0.6851\n",
      "Epoch 4/50\n",
      "50/50 [==============================] - 0s 830us/step - loss: 0.6458 - accuracy: 0.7607 - val_loss: 0.6230 - val_accuracy: 0.7733\n",
      "Epoch 5/50\n",
      "50/50 [==============================] - 0s 810us/step - loss: 0.5156 - accuracy: 0.8655 - val_loss: 0.5153 - val_accuracy: 0.8010\n",
      "Epoch 6/50\n",
      "50/50 [==============================] - 0s 809us/step - loss: 0.3393 - accuracy: 0.9141 - val_loss: 0.4447 - val_accuracy: 0.8010\n",
      "Epoch 7/50\n",
      "50/50 [==============================] - 0s 817us/step - loss: 0.2160 - accuracy: 0.9457 - val_loss: 0.4227 - val_accuracy: 0.8312\n",
      "Epoch 8/50\n",
      "50/50 [==============================] - 0s 817us/step - loss: 0.1456 - accuracy: 0.9665 - val_loss: 0.4429 - val_accuracy: 0.8010\n",
      "Epoch 9/50\n",
      "50/50 [==============================] - 0s 788us/step - loss: 0.1071 - accuracy: 0.9716 - val_loss: 0.4388 - val_accuracy: 0.8237\n",
      "Epoch 10/50\n",
      "50/50 [==============================] - 0s 829us/step - loss: 0.0748 - accuracy: 0.9836 - val_loss: 0.4585 - val_accuracy: 0.8186\n",
      "Epoch 11/50\n",
      "50/50 [==============================] - 0s 809us/step - loss: 0.0559 - accuracy: 0.9893 - val_loss: 0.4775 - val_accuracy: 0.8161\n",
      "Epoch 12/50\n",
      "50/50 [==============================] - 0s 829us/step - loss: 0.0431 - accuracy: 0.9924 - val_loss: 0.5130 - val_accuracy: 0.8060\n",
      "Epoch 13/50\n",
      "50/50 [==============================] - 0s 814us/step - loss: 0.0348 - accuracy: 0.9937 - val_loss: 0.5303 - val_accuracy: 0.8136\n",
      "Epoch 14/50\n",
      "50/50 [==============================] - 0s 800us/step - loss: 0.0274 - accuracy: 0.9949 - val_loss: 0.5590 - val_accuracy: 0.8060\n",
      "Epoch 15/50\n",
      "50/50 [==============================] - 0s 788us/step - loss: 0.0197 - accuracy: 0.9987 - val_loss: 0.5763 - val_accuracy: 0.8186\n",
      "Epoch 16/50\n",
      "50/50 [==============================] - 0s 787us/step - loss: 0.0180 - accuracy: 0.9981 - val_loss: 0.5963 - val_accuracy: 0.8186\n",
      "Epoch 17/50\n",
      " 1/50 [..............................] - ETA: 0s - loss: 0.0320 - accuracy: 1.0000Restoring model weights from the end of the best epoch.\n",
      "50/50 [==============================] - 0s 830us/step - loss: 0.0138 - accuracy: 0.9981 - val_loss: 0.6179 - val_accuracy: 0.8161\n",
      "Epoch 00017: early stopping\n"
     ]
    }
   ],
   "source": [
    "# Fit the training data to the model \n",
    "history = model.fit(X_train, y_train, epochs = num_epochs, validation_data=(X_test, y_test), callbacks=[early_stopping_monitor], verbose = True)"
   ]
  },
  {
   "cell_type": "code",
   "execution_count": 132,
   "id": "7f49cda9-22c0-4fb8-9a16-852a2f9350af",
   "metadata": {},
   "outputs": [
    {
     "name": "stdout",
     "output_type": "stream",
     "text": [
      "Train Loss: 0.016390573233366013 Train Accuracy: 0.9993686676025391\n",
      "Test Loss: 0.5762823820114136 Test Accuracy: 0.8186398148536682\n"
     ]
    }
   ],
   "source": [
    "# Test the model for accuracy \n",
    "score = model.evaluate(X_train, y_train, verbose=0)\n",
    "print(\"Train Loss: \" + str(score[0]) + \" Train Accuracy: \" + str(score[1]))\n",
    "score = model.evaluate(X_test, y_test, verbose=0)\n",
    "print(\"Test Loss: \" + str(score[0]) + \" Test Accuracy: \" + str(score[1]))"
   ]
  },
  {
   "cell_type": "code",
   "execution_count": 134,
   "id": "2e4a8d21-2eca-4c1a-ae19-c0762e2fb4bf",
   "metadata": {},
   "outputs": [
    {
     "data": {
      "image/png": "[encoded data removed]",
      "text/plain": [
       "<Figure size 1200x500 with 2 Axes>"
      ]
     },
     "metadata": {},
     "output_type": "display_data"
    }
   ],
   "source": [
    "history_df = pd.DataFrame(history.history)\n",
    "\n",
    "fig, axes = plt.subplots(1, 2, figsize=(12, 5))\n",
    "sns.lineplot(data=history_df[['accuracy', 'val_accuracy']], ax=axes[0])\n",
    "sns.lineplot(data=history_df[['loss', 'val_loss']], ax=axes[1])\n",
    "axes[0].set_title('Accuracy')\n",
    "axes[1].set_title('Loss')\n",
    "axes[0].set_xlabel('Epochs')\n",
    "axes[1].set_xlabel('Epochs')\n",
    "axes[0].set_ylabel('Percentage')\n",
    "axes[1].set_ylabel('Loss Value')\n",
    "plt.tight_layout()\n",
    "plt.show()"
   ]
  }
 ],
 "metadata": {
  "kernelspec": {
   "display_name": "Python 3 (ipykernel)",
   "language": "python",
   "name": "python3"
  },
  "language_info": {
   "codemirror_mode": {
    "name": "ipython",
    "version": 3
   },
   "file_extension": ".py",
   "mimetype": "text/x-python",
   "name": "python",
   "nbconvert_exporter": "python",
   "pygments_lexer": "ipython3",
   "version": "3.8.20"
  }
 },
 "nbformat": 4,
 "nbformat_minor": 5
}
